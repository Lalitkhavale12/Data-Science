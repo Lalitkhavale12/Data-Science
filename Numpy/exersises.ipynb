{
 "cells": [
  {
   "cell_type": "code",
   "execution_count": 1,
   "id": "20beb902-c142-457c-b76e-3ed9ec7c6d5f",
   "metadata": {},
   "outputs": [],
   "source": [
    "import numpy as np"
   ]
  },
  {
   "cell_type": "markdown",
   "id": "b8184faf-56e6-4cb5-84bc-9a23cce153fe",
   "metadata": {},
   "source": [
    "**Valid Sudoku**"
   ]
  },
  {
   "cell_type": "code",
   "execution_count": 2,
   "id": "01aca062-5ef2-423a-94d1-24cb73fc0551",
   "metadata": {},
   "outputs": [],
   "source": [
    "s = np.array([\n",
    "    [5, 3, 4, 6, 7, 8, 9, 1, 2],\n",
    "    [6, 7, 2, 1, 9, 5, 3, 4, 8],\n",
    "    [1, 9, 8, 3, 4, 2, 5, 6, 7],\n",
    "    \n",
    "    [8, 5, 9, 7, 6, 1, 4, 2, 3],\n",
    "    [4, 2, 6, 8, 5, 3, 7, 9, 1],\n",
    "    [7, 1, 3, 9, 2, 4, 8, 5, 6],\n",
    "    \n",
    "    [9, 6, 1, 5, 3, 7, 2, 8, 4],\n",
    "    [2, 8, 7, 4, 1, 9, 6, 3, 5],\n",
    "    [3, 4, 5, 2, 8, 6, 1, 7, 9]\n",
    "])"
   ]
  },
  {
   "cell_type": "markdown",
   "id": "b80e97ca-7b75-4d54-b17b-1dc633d28d21",
   "metadata": {},
   "source": [
    "**General Questions**"
   ]
  },
  {
   "cell_type": "code",
   "execution_count": 3,
   "id": "db312bc0-839d-41d9-b2ff-3de5c28ec0eb",
   "metadata": {},
   "outputs": [
    {
     "data": {
      "text/plain": [
       "np.int64(405)"
      ]
     },
     "execution_count": 3,
     "metadata": {},
     "output_type": "execute_result"
    }
   ],
   "source": [
    "s.sum()"
   ]
  },
  {
   "cell_type": "code",
   "execution_count": 4,
   "id": "9ee61ab4-4d4c-4f06-afda-16dfbbc37052",
   "metadata": {},
   "outputs": [
    {
     "data": {
      "text/plain": [
       "array([45, 45, 45, 45, 45, 45, 45, 45, 45])"
      ]
     },
     "execution_count": 4,
     "metadata": {},
     "output_type": "execute_result"
    }
   ],
   "source": [
    "np.sum(s,axis = 1)"
   ]
  },
  {
   "cell_type": "code",
   "execution_count": 5,
   "id": "c369f6a8-705a-4274-bc5b-1ab73210b9bf",
   "metadata": {},
   "outputs": [
    {
     "data": {
      "text/plain": [
       "array([ True,  True,  True,  True,  True,  True,  True,  True,  True])"
      ]
     },
     "execution_count": 5,
     "metadata": {},
     "output_type": "execute_result"
    }
   ],
   "source": [
    "b = np.sum(s,axis = 1)\n",
    "b==45"
   ]
  },
  {
   "cell_type": "code",
   "execution_count": 6,
   "id": "1d710bf6-e6c2-449f-8664-dcdc827af691",
   "metadata": {},
   "outputs": [
    {
     "data": {
      "text/plain": [
       "array([[5, 3, 4],\n",
       "       [6, 7, 2],\n",
       "       [1, 9, 8]])"
      ]
     },
     "execution_count": 6,
     "metadata": {},
     "output_type": "execute_result"
    }
   ],
   "source": [
    "slice1 = s[0:3,0:3]\n",
    "slice1"
   ]
  },
  {
   "cell_type": "code",
   "execution_count": 7,
   "id": "e058e365-ca42-44f6-92f7-4c9f5e7d66d5",
   "metadata": {},
   "outputs": [
    {
     "data": {
      "text/plain": [
       "np.int64(45)"
      ]
     },
     "execution_count": 7,
     "metadata": {},
     "output_type": "execute_result"
    }
   ],
   "source": [
    "np.sum(slice1)"
   ]
  },
  {
   "cell_type": "code",
   "execution_count": 8,
   "id": "dc8131ed-6c18-4267-8714-ab74e453a197",
   "metadata": {},
   "outputs": [
    {
     "data": {
      "text/plain": [
       "array([[6, 7, 8],\n",
       "       [1, 9, 5],\n",
       "       [3, 4, 2]])"
      ]
     },
     "execution_count": 8,
     "metadata": {},
     "output_type": "execute_result"
    }
   ],
   "source": [
    "slice2 = s[0:3,3:6]\n",
    "slice2"
   ]
  },
  {
   "cell_type": "code",
   "execution_count": 9,
   "id": "61e10442-b8ef-4c55-b066-3e23490696dd",
   "metadata": {},
   "outputs": [
    {
     "data": {
      "text/plain": [
       "np.int64(45)"
      ]
     },
     "execution_count": 9,
     "metadata": {},
     "output_type": "execute_result"
    }
   ],
   "source": [
    "np.sum(slice2)"
   ]
  },
  {
   "cell_type": "code",
   "execution_count": 10,
   "id": "9493d20b-3f89-4417-a59f-b37702921e92",
   "metadata": {},
   "outputs": [
    {
     "name": "stdout",
     "output_type": "stream",
     "text": [
      "45\n",
      "45\n",
      "45\n",
      "45\n",
      "45\n",
      "45\n",
      "45\n",
      "45\n",
      "45\n"
     ]
    }
   ],
   "source": [
    "for i in range(0,9,3):\n",
    "    for j in range(0,9,3):\n",
    "        n = s[i:i+3,j:j+3]\n",
    "        print(n.sum())"
   ]
  },
  {
   "cell_type": "code",
   "execution_count": null,
   "id": "160c85f2-bb76-4327-8da8-538771103fe9",
   "metadata": {},
   "outputs": [],
   "source": []
  },
  {
   "cell_type": "code",
   "execution_count": null,
   "id": "f465ef4d-484a-4ac1-8e23-a2be1a4fcf6d",
   "metadata": {},
   "outputs": [],
   "source": []
  },
  {
   "cell_type": "code",
   "execution_count": 11,
   "id": "1a661d89-c528-4af5-9117-907f23f8dfeb",
   "metadata": {},
   "outputs": [],
   "source": [
    "import numpy as np\n",
    "\n",
    "# Columns: [Age, Math Marks, Science Marks]\n",
    "data = np.array([\n",
    "    [18, 85, 78],   # Student 1\n",
    "    [19, 92, 88],   # Student 2\n",
    "    [17, 76, 95],   # Student 3\n",
    "    [18, 65, 70],   # Student 4\n",
    "    [20, 90, 85]    # Student 5\n",
    "])"
   ]
  },
  {
   "cell_type": "code",
   "execution_count": 12,
   "id": "cc86649d-6eaf-4f29-ae82-626d87ab0412",
   "metadata": {},
   "outputs": [
    {
     "data": {
      "text/plain": [
       "(5, 3)"
      ]
     },
     "execution_count": 12,
     "metadata": {},
     "output_type": "execute_result"
    }
   ],
   "source": [
    "#Get the shape of the matrix.\n",
    "data.shape"
   ]
  },
  {
   "cell_type": "code",
   "execution_count": 13,
   "id": "512ab9df-174c-473a-b85a-edcaf1694bc3",
   "metadata": {},
   "outputs": [
    {
     "data": {
      "text/plain": [
       "array([[18],\n",
       "       [19],\n",
       "       [17],\n",
       "       [18],\n",
       "       [20]])"
      ]
     },
     "execution_count": 13,
     "metadata": {},
     "output_type": "execute_result"
    }
   ],
   "source": [
    "#Find the average age of students.\n",
    "age = data[:,:1]\n",
    "age"
   ]
  },
  {
   "cell_type": "code",
   "execution_count": 14,
   "id": "050a5141-ab0a-4e9d-be98-bb37d1e8bd3f",
   "metadata": {},
   "outputs": [
    {
     "data": {
      "text/plain": [
       "np.float64(18.4)"
      ]
     },
     "execution_count": 14,
     "metadata": {},
     "output_type": "execute_result"
    }
   ],
   "source": [
    "#Extract Math marks of all students.\n",
    "age.mean()"
   ]
  },
  {
   "cell_type": "code",
   "execution_count": 15,
   "id": "05a724aa-b2b6-4c32-b1f6-03b568d87649",
   "metadata": {},
   "outputs": [
    {
     "data": {
      "text/plain": [
       "array([[85],\n",
       "       [92],\n",
       "       [76],\n",
       "       [65],\n",
       "       [90]])"
      ]
     },
     "execution_count": 15,
     "metadata": {},
     "output_type": "execute_result"
    }
   ],
   "source": [
    "#Find the highest Science mark.\n",
    "science = data[:,1:2]\n",
    "science"
   ]
  },
  {
   "cell_type": "code",
   "execution_count": 16,
   "id": "c1dfe4f2-811a-47f5-ac95-69427e63aa8a",
   "metadata": {},
   "outputs": [
    {
     "data": {
      "text/plain": [
       "np.int64(92)"
      ]
     },
     "execution_count": 16,
     "metadata": {},
     "output_type": "execute_result"
    }
   ],
   "source": [
    "science.max()"
   ]
  },
  {
   "cell_type": "code",
   "execution_count": null,
   "id": "44333cda-b800-4eed-8bfb-88dcea9fc9a8",
   "metadata": {},
   "outputs": [],
   "source": []
  },
  {
   "cell_type": "code",
   "execution_count": 17,
   "id": "58dbe813-ad7d-4bd1-af72-81f0f7cd86ff",
   "metadata": {},
   "outputs": [
    {
     "data": {
      "text/plain": [
       "array([[19, 92, 88]])"
      ]
     },
     "execution_count": 17,
     "metadata": {},
     "output_type": "execute_result"
    }
   ],
   "source": [
    "#Get details of the student who scored more than 90 in Math.\n",
    "\n",
    "math =data[data[:,1]  >90]\n",
    "math"
   ]
  },
  {
   "cell_type": "code",
   "execution_count": 18,
   "id": "0d8d4e9f-e7aa-4926-a432-4565b3e08f27",
   "metadata": {},
   "outputs": [
    {
     "data": {
      "text/plain": [
       "array([[18, 90, 78],\n",
       "       [19, 97, 88],\n",
       "       [17, 81, 95],\n",
       "       [18, 70, 70],\n",
       "       [20, 95, 85]])"
      ]
     },
     "execution_count": 18,
     "metadata": {},
     "output_type": "execute_result"
    }
   ],
   "source": [
    "#Increase Math marks of all students by 5.\n",
    "data[:,1] += 5\n",
    "data"
   ]
  },
  {
   "cell_type": "code",
   "execution_count": 19,
   "id": "0a615fce-480d-493f-b597-fe34b4f7411d",
   "metadata": {},
   "outputs": [
    {
     "data": {
      "text/plain": [
       "3"
      ]
     },
     "execution_count": 19,
     "metadata": {},
     "output_type": "execute_result"
    }
   ],
   "source": [
    "len(data[data[:,0] < 19])"
   ]
  },
  {
   "cell_type": "code",
   "execution_count": 20,
   "id": "6d3945af-91b5-4e81-ad8d-3ec3dca1119d",
   "metadata": {},
   "outputs": [],
   "source": [
    "#Find how many students are younger than 19.\n"
   ]
  },
  {
   "cell_type": "code",
   "execution_count": 21,
   "id": "64134eb8-c6d1-4d0b-a19b-1d124b18cf71",
   "metadata": {},
   "outputs": [
    {
     "data": {
      "text/plain": [
       "array([86.6, 83.2])"
      ]
     },
     "execution_count": 21,
     "metadata": {},
     "output_type": "execute_result"
    }
   ],
   "source": [
    "#Calculate the average marks in each subject (column-wise mean).\n",
    "np.mean(data[:,1:], axis = 0)"
   ]
  },
  {
   "cell_type": "code",
   "execution_count": null,
   "id": "62ac064a-6aaa-4623-87d6-a9e30b1e2a7f",
   "metadata": {},
   "outputs": [],
   "source": []
  },
  {
   "cell_type": "code",
   "execution_count": 22,
   "id": "0c44133f-6641-4da8-9d52-e28ee75098c4",
   "metadata": {},
   "outputs": [
    {
     "data": {
      "text/plain": [
       "array([[19, 97, 88],\n",
       "       [17, 81, 95],\n",
       "       [20, 95, 85]])"
      ]
     },
     "execution_count": 22,
     "metadata": {},
     "output_type": "execute_result"
    }
   ],
   "source": [
    "#Get data of students who scored at least 80 in both subjects.\n",
    "data[  (data[:,1] >= 80) &  (data[:,2] >= 80) ]"
   ]
  },
  {
   "cell_type": "code",
   "execution_count": 23,
   "id": "7619e559-c244-4ca1-add2-7daca65b365e",
   "metadata": {},
   "outputs": [
    {
     "data": {
      "text/plain": [
       "array([[18, 90, 78],\n",
       "       [19, 97, 88],\n",
       "       [17, 81, 95],\n",
       "       [18, 70, 70],\n",
       "       [20, 95, 85]])"
      ]
     },
     "execution_count": 23,
     "metadata": {},
     "output_type": "execute_result"
    }
   ],
   "source": [
    "#Replace all Science marks < 75 with 0.\n",
    "data"
   ]
  },
  {
   "cell_type": "code",
   "execution_count": 24,
   "id": "7be1cd2f-bbad-4809-b6ef-69529b2c144f",
   "metadata": {},
   "outputs": [
    {
     "data": {
      "text/plain": [
       "array([[18, 90, 78],\n",
       "       [19, 97, 88],\n",
       "       [17, 81, 95],\n",
       "       [18,  0, 70],\n",
       "       [20, 95, 85]])"
      ]
     },
     "execution_count": 24,
     "metadata": {},
     "output_type": "execute_result"
    }
   ],
   "source": [
    "data[:,1][data[:,1] < 75 ]= 0\n",
    "data"
   ]
  },
  {
   "cell_type": "code",
   "execution_count": null,
   "id": "20fea074-ec69-4f82-8927-c66b1b5299d0",
   "metadata": {},
   "outputs": [],
   "source": []
  }
 ],
 "metadata": {
  "kernelspec": {
   "display_name": "Python 3 (ipykernel)",
   "language": "python",
   "name": "python3"
  },
  "language_info": {
   "codemirror_mode": {
    "name": "ipython",
    "version": 3
   },
   "file_extension": ".py",
   "mimetype": "text/x-python",
   "name": "python",
   "nbconvert_exporter": "python",
   "pygments_lexer": "ipython3",
   "version": "3.13.7"
  }
 },
 "nbformat": 4,
 "nbformat_minor": 5
}
